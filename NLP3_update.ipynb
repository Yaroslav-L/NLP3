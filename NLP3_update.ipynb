{
 "cells": [
  {
   "cell_type": "code",
   "execution_count": 5,
   "id": "8d72fc91-43d9-496a-84b4-9d9b3d7846b1",
   "metadata": {},
   "outputs": [
    {
     "name": "stderr",
     "output_type": "stream",
     "text": [
      "2022-12-09 19:19:12.244 INFO in 'deeppavlov.download'['download'] at line 138: Skipped http://files.deeppavlov.ai/v1/ner/ner_ontonotes_bert_mult_torch_crf.tar.gz download because of matching hashes\n",
      "Some weights of the model checkpoint at bert-base-multilingual-cased were not used when initializing BertForTokenClassification: ['cls.seq_relationship.weight', 'cls.predictions.transform.dense.bias', 'cls.predictions.transform.dense.weight', 'cls.predictions.transform.LayerNorm.bias', 'cls.predictions.decoder.weight', 'cls.predictions.bias', 'cls.seq_relationship.bias', 'cls.predictions.transform.LayerNorm.weight']\n",
      "- This IS expected if you are initializing BertForTokenClassification from the checkpoint of a model trained on another task or with another architecture (e.g. initializing a BertForSequenceClassification model from a BertForPreTraining model).\n",
      "- This IS NOT expected if you are initializing BertForTokenClassification from the checkpoint of a model that you expect to be exactly identical (initializing a BertForSequenceClassification model from a BertForSequenceClassification model).\n",
      "Some weights of BertForTokenClassification were not initialized from the model checkpoint at bert-base-multilingual-cased and are newly initialized: ['classifier.bias', 'classifier.weight']\n",
      "You should probably TRAIN this model on a down-stream task to be able to use it for predictions and inference.\n"
     ]
    },
    {
     "name": "stdin",
     "output_type": "stream",
     "text": [
      "С какого предложения начать обработку:  1\n",
      "На каком предложении закончить обработку:  2\n"
     ]
    },
    {
     "name": "stdout",
     "output_type": "stream",
     "text": [
      "\n",
      " Предложения с  1  по  2  были обработаны deeppavlov \n",
      "\n",
      " Исходный текст: \n",
      "  Жили-были три китайца: Як, Як-Цидрак, Як-Цидрак-Цидрони. Жили-были три китайки: Ципа, Ципа-Дрипа, Ципа-Дрипа-Лам-Помпони. Вот они переженились: Як на Ципе, Як-Цидрак на Ципе-Дрипе, Як-Цидрак-Цидрони на Ципе-Дрипе-Лам-Помпони. Родились у них детишки: У Яка с Ципой Шах, У Як-Цыдрака с Цыпой-Дрыпой Шах-Шарах, У Як-Цыдрак-Цыдрони с Цыпой-Дрыпой-Дрымпомпоне Шах-Шарах-Шароне..   \n",
      " \n",
      " Результат работы первой нейросети (natasha-razdel) (текст разделился на предложения): \n",
      " [Substring(1, 57, 'Жили-были три китайца: Як, Як-Цидрак, Як-Цидрак-Цидрони.'), Substring(58, 122, 'Жили-были три китайки: Ципа, Ципа-Дрипа, Ципа-Дрипа-Лам-Помпони.'), Substring(123, 226, 'Вот они переженились: Як на Ципе, Як-Цидрак на Ципе-Дрипе, Як-Цидрак-Цидрони на Ципе-Дрипе-Лам-Помпони.'), Substring(227, 374, 'Родились у них детишки: У Яка с Ципой Шах, У Як-Цыдрака с Цыпой-Дрыпой Шах-Шарах, У Як-Цыдрак-Цыдрони с Цыпой-Дрыпой-Дрымпомпоне Шах-Шарах-Шароне..')] \n",
      "\n",
      "Результат работы второй нейросети (deeppavlov) (взят результат первой нейросети и был обработан второй нейросетью): \n",
      "\n"
     ]
    },
    {
     "data": {
      "text/plain": [
       "[[['Жили',\n",
       "   '-',\n",
       "   'были',\n",
       "   'три',\n",
       "   'китайца',\n",
       "   ':',\n",
       "   'Як',\n",
       "   ',',\n",
       "   'Як',\n",
       "   '-',\n",
       "   'Цидрак',\n",
       "   ',',\n",
       "   'Як',\n",
       "   '-',\n",
       "   'Цидрак',\n",
       "   '-',\n",
       "   'Цидрони',\n",
       "   '.'],\n",
       "  ['Жили',\n",
       "   '-',\n",
       "   'были',\n",
       "   'три',\n",
       "   'китайки',\n",
       "   ':',\n",
       "   'Ципа',\n",
       "   ',',\n",
       "   'Ципа',\n",
       "   '-',\n",
       "   'Дрипа',\n",
       "   ',',\n",
       "   'Ципа',\n",
       "   '-',\n",
       "   'Дрипа',\n",
       "   '-',\n",
       "   'Лам',\n",
       "   '-',\n",
       "   'Помпони',\n",
       "   '.']],\n",
       " [['O',\n",
       "   'O',\n",
       "   'O',\n",
       "   'B-CARDINAL',\n",
       "   'B-NORP',\n",
       "   'O',\n",
       "   'B-PERSON',\n",
       "   'O',\n",
       "   'B-PERSON',\n",
       "   'I-PERSON',\n",
       "   'I-PERSON',\n",
       "   'O',\n",
       "   'B-PERSON',\n",
       "   'I-PERSON',\n",
       "   'I-PERSON',\n",
       "   'I-PERSON',\n",
       "   'I-PERSON',\n",
       "   'O'],\n",
       "  ['O',\n",
       "   'O',\n",
       "   'O',\n",
       "   'B-CARDINAL',\n",
       "   'O',\n",
       "   'O',\n",
       "   'O',\n",
       "   'O',\n",
       "   'O',\n",
       "   'O',\n",
       "   'O',\n",
       "   'O',\n",
       "   'O',\n",
       "   'O',\n",
       "   'O',\n",
       "   'O',\n",
       "   'O',\n",
       "   'O',\n",
       "   'O',\n",
       "   'O']]]"
      ]
     },
     "execution_count": 5,
     "metadata": {},
     "output_type": "execute_result"
    }
   ],
   "source": [
    "from razdel import sentenize #natasha_razdel\n",
    "from deeppavlov import build_model #deeppavlov\n",
    "model = build_model(\"C:/Users/lipin/env2/Lib/site-packages/deeppavlov/configs/ner/ner_ontonotes_bert_mult.json\", download=True) #deeppavlov\n",
    "\n",
    "inpt1 = int(input(\"С какого предложения начать обработку: \"))\n",
    "inpt2 = int(input(\"На каком предложении закончить обработку: \"))\n",
    "inpt1=inpt1-1;\n",
    "\n",
    "text = ''' Жили-были три китайца: Як, Як-Цидрак, Як-Цидрак-Цидрони. Жили-были три китайки: Ципа, Ципа-Дрипа, Ципа-Дрипа-Лам-Помпони. Вот они переженились: Як на Ципе, Як-Цидрак на Ципе-Дрипе, Як-Цидрак-Цидрони на Ципе-Дрипе-Лам-Помпони. Родились у них детишки: У Яка с Ципой Шах, У Як-Цыдрака с Цыпой-Дрыпой Шах-Шарах, У Як-Цыдрак-Цыдрони с Цыпой-Дрыпой-Дрымпомпоне Шах-Шарах-Шароне..  '''\n",
    "\n",
    "x = list(sentenize(text)) #natasha_razdel\n",
    "\n",
    "print('\\n Предложения с ', inpt1+1, ' по ',inpt2, ' были обработаны deeppavlov \\n\\n Исходный текст: \\n' ,text, '\\n' , '\\n Результат работы первой нейросети (natasha-razdel) (текст разделился на предложения): \\n' , x ,'\\n')\n",
    "print('Результат работы второй нейросети (deeppavlov) (взят результат первой нейросети и был обработан второй нейросетью): \\n')\n",
    "model([_.text for _ in x[inpt1:inpt2:1]]) #deeppavlov"
   ]
  },
  {
   "cell_type": "code",
   "execution_count": null,
   "id": "20b72b13-41be-4ed5-aa74-301734442713",
   "metadata": {},
   "outputs": [],
   "source": []
  }
 ],
 "metadata": {
  "kernelspec": {
   "display_name": "Python 3 (ipykernel)",
   "language": "python",
   "name": "python3"
  },
  "language_info": {
   "codemirror_mode": {
    "name": "ipython",
    "version": 3
   },
   "file_extension": ".py",
   "mimetype": "text/x-python",
   "name": "python",
   "nbconvert_exporter": "python",
   "pygments_lexer": "ipython3",
   "version": "3.7.0"
  }
 },
 "nbformat": 4,
 "nbformat_minor": 5
}
